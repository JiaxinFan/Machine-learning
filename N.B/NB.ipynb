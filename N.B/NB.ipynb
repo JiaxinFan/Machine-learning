{
 "cells": [
  {
   "cell_type": "markdown",
   "metadata": {},
   "source": [
    "# Assignment 2: Income Prediction based on U.S. Census data"
   ]
  },
  {
   "cell_type": "markdown",
   "metadata": {},
   "source": [
    "Student Name:\n",
    "\n",
    "Student ID:"
   ]
  },
  {
   "cell_type": "markdown",
   "metadata": {},
   "source": [
    "# General Info\n",
    "\n",
    "<b>Due date</b>: Friday, 16 Apr 2021 5pm\n",
    "\n",
    "<b>Submission method</b>: Canvas submission\n",
    "\n",
    "<b>Submission materials</b>: completed copy of this iPython notebook\n",
    "\n",
    "<b>Late submissions</b>: -10% per day (both week and weekend days counted)\n",
    "\n",
    "<b>Marks</b>: 15% of mark for class \n",
    "\n",
    "<b>Materials</b>: See [Using Jupyter Notebook and Python page](https://canvas.lms.unimelb.edu.au/courses/105477/pages/python-and-jupyter-notebooks?module_item_id=2613813) on Canvas (under Modules>Resources) for information on the basic setup required for this class, including an iPython notebook viewer and some handy python packages including Numpy, Scipy, Matplotlib, Scikit-Learn, and Gensim. You can use any Python built-in packages, but do not use any other 3rd party packages (the packages listed above are all fine to use); if your iPython notebook doesn't run on the marker's machine, you will lose marks. <b> You should use Python 3</b>.  \n",
    "\n",
    "<b>Evaluation</b>: Your iPython notebook should run end-to-end without any errors in a reasonable amount of time, and you must follow all instructions provided below, including specific implementation requirements and instructions for what needs to be printed (please avoid printing output we don't ask for). You should edit the sections below where requested, but leave the rest of the code as is. You should leave the output from running your code in the iPython notebook you submit, to assist with marking. The amount each section is worth is given in parenthesis after the instructions. \n",
    "\n",
    "You should be careful to use Python built-in functions and operators when appropriate and pick descriptive variable names that adhere to <a href=\"https://www.python.org/dev/peps/pep-0008/\">Python style requirements</a>. If you think it might be unclear what you are doing, you should comment your code to help the marker make sense of it. While the main focus is on correctness of your methods, you will lose marks if your code is not understandable.\n",
    "\n",
    "<b>Updates</b>: Any major changes to the assignment will be announced via Canvas. Minor changes and clarifications will be announced on the discussion board; we recommend you check it regularly.\n",
    "\n",
    "<b>Academic misconduct</b>: For most people, collaboration will form a natural part of the undertaking of this homework, and we encourge you to discuss it in general terms with other students. However, this ultimately is still an individual task, and so reuse of code or other instances of clear influence will be considered cheating. We will be checking submissions for originality and will invoke the University’s <a href=\"http://academichonesty.unimelb.edu.au/policy.html\">Academic Misconduct policy</a> where inappropriate levels of collusion or plagiarism are deemed to have taken place.\n"
   ]
  },
  {
   "cell_type": "markdown",
   "metadata": {},
   "source": [
    "## Overview\n",
    "\n",
    "In this assignment, you will be working with the famous *Adult* a data set containing demographic and income data from the united states in 1994. The dataset provided for this assignment is derived from <a href=\"http://archive.ics.uci.edu/ml/datasets/Adult\">this</a> resource. The data set consists of about 48,000 individuals each characterized through a set of 14 attributes. Your task is to predict whether the individual earns up to \\\\$ 50,000 a year (<=50K) or more than \\\\$50,000 per year (>50K).\n",
    "\n",
    "The attributes are\n",
    "\n",
    "|ID|Feature Name| Feature Type | Feature Values|\n",
    "| :-| :-| :-| :-|\n",
    "|0|age| continuous| |\n",
    "|1|workclass| categorical | Private, Self-emp-not-inc, Self-emp-inc, Federal-gov, Local-gov, State-gov, ?|\n",
    "|2|fnlwgt| continuous| |\n",
    "|3|education|  categorical |Bachelors, Some-college, 11th, HS-grad, Prof-school, Assoc-acdm, Assoc-voc, 9th, 7th-8th, 12th, Masters, 1st-4th, 10th, Doctorate, 5th-6th, Preschool|\n",
    "|4|education-num| continuous| |\n",
    "|5|marital-status|  categorical |Married-civ-spouse, Divorced, Never-married, Separated, Widowed, Married-spouse-absent, Married-AF-spouse|\n",
    "|6|occupation|  categorical |Tech-support, Craft-repair, Other-service, Sales, Exec-managerial, Prof-specialty, Handlers-cleaners, Machine-op-inspct, Adm-clerical, Farming-fishing, Transport-moving, Priv-house-serv, Protective-serv, Armed-Forces, ?|\n",
    "|7|relationship|  categorical |Wife, Own-child, Husband, Not-in-family, Other-relative, Unmarried|\n",
    "|8|race|  categorical |White, Asian-Pac-Islander, Amer-Indian-Eskimo, Other, Black|\n",
    "|9|sex|  categorical |Female, Male|\n",
    "|10|capital-gain| continuous| |\n",
    "|11|capital-loss| continuous| |\n",
    "|12|hours-per-week| continuous| |\n",
    "|13|native-country|  categorical |United-States, Cambodia, England, Puerto-Rico, Canada, Germany, India, Japan, Greece, South, China, Cuba, Iran, Honduras, Philippines, Italy, Poland, Jamaica, Vietnam, Mexico, Portugal, Ireland, France, Dominican-Republic, Laos, Ecuador, Taiwan, Haiti, Columbia, Hungary, Guatemala, Nicaragua, Scotland, Thailand, Yugoslavia, El-Salvador, Trinadad&Tobago, Peru, Hong, ?|\n",
    "\n",
    "You can find out more about the individual attributes / values, and the origin of the data set in the <a href=\"https://archive.ics.uci.edu/ml/machine-learning-databases/adult/adult.names\"> data set description</a>  \n",
    "\n",
    "\n",
    "You will build a number of classifiers to predict the income class based on the attributes above.\n",
    "\n",
    "\n",
    "#### The following instructions hold for every question in the assignment\n",
    "- leave the order of instances intact, i.e., do not shuffle the data\n",
    "- do not change the names or types of variables provided by us in the code cells below\n",
    "- '?' denotes an unknown value, and you should treat it as just another value for its feature in all tasks below."
   ]
  },
  {
   "cell_type": "markdown",
   "metadata": {},
   "source": [
    "## Question 1: Loading and pre-processing the data (1 mark)\n",
    "\n",
    "You were provide two data files:\n",
    "\n",
    "**adult.train** contains about 32,000 training instances, one instance per line in comma-separated value (csv) format. Each line contains 14 fields. The first 13 fields correspond to the features listed above, the final field denotes the class label\n",
    "\n",
    "**adult.test** is formatted exactly like adult.train, and contains about 16,000 further instances for evaluation.\n"
   ]
  },
  {
   "cell_type": "markdown",
   "metadata": {},
   "source": [
    "### 1a Read the data [0.5 marks]\n",
    "\n",
    "First, you will read in the data and create traing features, training labels, test features and test labels. Do not apply any data transformations."
   ]
  },
  {
   "cell_type": "code",
   "execution_count": 659,
   "metadata": {},
   "outputs": [
    {
     "data": {
      "text/plain": [
       "(32525, 32525, 16262, 16262, 14, 14)"
      ]
     },
     "execution_count": 659,
     "metadata": {},
     "output_type": "execute_result"
    }
   ],
   "source": [
    "# load data\n",
    "import numpy as np\n",
    "import pandas as pd\n",
    "from pandas import Series, DataFrame\n",
    "from sklearn import datasets\n",
    "from collections import Counter\n",
    "import matplotlib.pyplot as plt\n",
    "import copy\n",
    "import math\n",
    "from matplotlib import pyplot\n",
    "import scipy as sp\n",
    "from sklearn.datasets import load_files\n",
    "from sklearn.feature_extraction.text import  CountVectorizer\n",
    "from sklearn.feature_extraction.text import  TfidfVectorizer\n",
    "from sklearn.naive_bayes import MultinomialNB\n",
    "from sklearn.metrics import precision_recall_curve\n",
    "from sklearn.metrics import classification_report\n",
    "x_train = []\n",
    "y_train = []\n",
    "x_test = []\n",
    "y_test = []\n",
    "with open(\"adult.train\", mode='r') as tr:\n",
    "    for line in tr:\n",
    "        atts = line.strip().split(\",\")\n",
    "        x_train.append(atts[:-1]) #all atts, excluding the class\n",
    "        y_train.append(atts[-1])\n",
    "with open(\"adult.test\", mode='r') as te:\n",
    "    for line in te:\n",
    "        atts = line.strip().split(\",\")\n",
    "        x_test.append(atts[:-1]) #all atts, excluding the class(label)\n",
    "        y_test.append(atts[-1])\n",
    "len(x_train), len(y_train), len(x_test), len(y_test), len(x_train[0]), len(x_test[0])"
   ]
  },
  {
   "cell_type": "markdown",
   "metadata": {},
   "source": [
    "<b>For your testing:</b>"
   ]
  },
  {
   "cell_type": "code",
   "execution_count": 660,
   "metadata": {},
   "outputs": [],
   "source": [
    "assert len(x_train)==len(y_train)==32525\n",
    "assert len(x_train[0])==len(x_test[0])==14"
   ]
  },
  {
   "cell_type": "markdown",
   "metadata": {},
   "source": [
    "### 1b: Attribute Types [0.5 marks]\n",
    "\n",
    "You will create three feature representations, based on the different attribute types (categorical, numeric) in the original *Adult* data.\n",
    "\n",
    "**Your tasks**\n",
    "\n",
    "Denote with $I$ the number of training instances; $N$ the number of numeric features in the data set; and $v_f$ the number of possible values for feature $f$.\n",
    "\n",
    "1. Create a train data set with only numeric features `x_train_num` (size $(I\\times N)$); and equivaluently a test data set `x_test_num`\n",
    "2. Create a train data set with only categorical features *in a 1-hot representation* `x_train_1hot` (size $(I\\times\\sum_f v_f)$); and equivalently a test data set `x_test_1hot`\n",
    "3. Create a train data set with both numeric and 1-hot categorical features `x_train_full` (size $I \\times N+\\sum_f v_f$) where the first $N$ columns represent the numerical features and the remaining columns the categorical features; and equivalently a test data set `x_test_full`\n",
    "\n",
    "**Note:** You may use classes and functions from ```scikit-learn```.\n",
    "\n"
   ]
  },
  {
   "cell_type": "code",
   "execution_count": 661,
   "metadata": {},
   "outputs": [],
   "source": [
    "from sklearn.preprocessing import OneHotEncoder\n",
    "# check whether is number(int float)\n",
    "def is_number(s):\n",
    "    try:\n",
    "        float(s)\n",
    "        return True\n",
    "    except ValueError:\n",
    "        pass\n",
    "    try:\n",
    "        import unicodedata\n",
    "        unicodedata.numeric(s)\n",
    "        return True\n",
    "    except (TypeError, ValueError):\n",
    "        pass\n",
    "    return False\n",
    "# change str list to int list\n",
    "def transfer_to_floatversion(numset):\n",
    "    returnset=[]\n",
    "    for i in range(len(numset)):\n",
    "        returnset.append([])\n",
    "        for j in range(len(numset[i])):\n",
    "            returnset[i].append(float(numset[i][j]))\n",
    "    return returnset\n",
    "#keep only numbers\n",
    "def transfer_to_numeric(dataset):\n",
    "    returnset =copy.deepcopy(dataset)\n",
    "    for i in range(len(dataset)):\n",
    "        k=0\n",
    "        for j in range(len(dataset[i])):\n",
    "            if is_number(dataset[i][j]):\n",
    "                continue\n",
    "            else:\n",
    "                del returnset[i][j-k]\n",
    "                k=k+1\n",
    "    return returnset\n",
    "#change str to onehot\n",
    "def transfer_to_onehotall(dataset):\n",
    "    returnset =copy.deepcopy(dataset)\n",
    "    for i in range(len(dataset)):\n",
    "        k=0\n",
    "        for j in range(len(dataset[i])):\n",
    "            if is_number(dataset[i][j]):\n",
    "                del returnset[i][j-k]\n",
    "                k=k+1\n",
    "            else:\n",
    "                continue\n",
    "    ohe = OneHotEncoder()\n",
    "    ohe.fit(returnset)\n",
    "    X_trans = ohe.transform(returnset).toarray()\n",
    "    return X_trans\n",
    "def transfer_to_catonehot(dataset):\n",
    "    returnset =copy.deepcopy(dataset)\n",
    "    for i in range(len(dataset)):\n",
    "        k=0\n",
    "        for j in range(len(dataset[i])):\n",
    "            if is_number(dataset[i][j]):\n",
    "                del returnset[i][j-k]\n",
    "                k=k+1\n",
    "            else:\n",
    "                continue\n",
    "    ohe = OneHotEncoder()\n",
    "    ohe.fit(returnset)\n",
    "    X_trans = ohe.transform(returnset).toarray()\n",
    "    return X_trans\n",
    "#keep only str\n",
    "def transfer_to_cat(dataset):\n",
    "    returnset =copy.deepcopy(dataset)\n",
    "    for i in range(len(dataset)):\n",
    "        k=0\n",
    "        for j in range(len(dataset[i])):\n",
    "            if is_number(dataset[i][j]):\n",
    "                del returnset[i][j-k]\n",
    "                k=k+1\n",
    "            else:\n",
    "                continue\n",
    "    return returnset\n",
    "#get cat name or count\n",
    "def get_cat_name(dataset):\n",
    "    testtable=np.array(dataset)\n",
    "    templist=[]\n",
    "    featurelist=[]\n",
    "    for i in range(len(dataset[0])):\n",
    "        templist.append(sorted(set(testtable[:,i])))\n",
    "    for i in range(len(templist)):\n",
    "        for j in range(len(templist[i])):\n",
    "            featurelist.append(templist[i][j])\n",
    "    return featurelist\n",
    "#combine number and str seperately\n",
    "def combine(numset,strset):\n",
    "    returnset =copy.deepcopy(numset)\n",
    "    for i in range(len(numset)):\n",
    "        for j in range(len(strset[0])):\n",
    "            returnset[i].append(strset[i][j])\n",
    "    return returnset"
   ]
  },
  {
   "cell_type": "code",
   "execution_count": 662,
   "metadata": {},
   "outputs": [],
   "source": [
    "x_train_num=transfer_to_numeric(x_train)\n",
    "x_test_num=transfer_to_numeric(x_test)\n",
    "x_train_1hot=transfer_to_catonehot(x_train)\n",
    "x_test_1hot=transfer_to_catonehot(x_test)\n",
    "x_train_full = combine(x_train_num,x_train_1hot)\n",
    "x_test_full = combine(x_test_num,x_test_1hot)\n",
    "x_train_cat=transfer_to_cat(x_train)"
   ]
  },
  {
   "cell_type": "markdown",
   "metadata": {},
   "source": [
    "<b> For your testing</b>"
   ]
  },
  {
   "cell_type": "code",
   "execution_count": 663,
   "metadata": {},
   "outputs": [],
   "source": [
    "assert len(x_train_1hot[0])==98\n",
    "assert len(x_train_full[0])==104"
   ]
  },
  {
   "cell_type": "markdown",
   "metadata": {},
   "source": [
    "## Question 2: A 0-R baseline [0.5 marks]\n",
    "\n",
    "Implement a zero-r baseline, as introduced in the Evaluation lecture."
   ]
  },
  {
   "cell_type": "code",
   "execution_count": 664,
   "metadata": {},
   "outputs": [
    {
     "name": "stdout",
     "output_type": "stream",
     "text": [
      "The most frequent occurrence in test dataset is  [(' <=50K', 12419)]\n",
      "The prediction is : <=50K\n"
     ]
    }
   ],
   "source": [
    "zero_r_prediction=[]\n",
    "from collections import Counter\n",
    "result = Counter(y_test)\n",
    "zero_r_order=sorted(result.items(),key=lambda x:x[1],reverse=False)\n",
    "for i in range(len(y_test)):\n",
    "    zero_r_prediction.append(zero_r_order[1][0])\n",
    "print(\"The most frequent occurrence in test dataset is  %s\"%(result.most_common(1)))\n",
    "print(f'The prediction is :{zero_r_order[1][0]}')"
   ]
  },
  {
   "cell_type": "markdown",
   "metadata": {},
   "source": [
    "## Question 3: Feature selection [2 marks]\n",
    "\n",
    "In this question you will implement pointwise mutual information (PMI) for feature selection (Question 3a)\n",
    "\n",
    "In question 3a. you will use the implemented function to create a 1-R classifier based on the single 1-hot attribute  (i.e., categorical feature value) with highest PMI for class \">50K\". \n",
    "```\n",
    "argmax_a pmi(a=1,c=\">50K\")\n",
    "```\n",
    "In question 3b. you will apply your 1-R classifier to the test instances, and store your predicted labels in `one_r_predictions`.\n",
    "\n",
    "<b> You should implement PMI from scratch yourself. You may use native Python libraries like math or numpy to help you, but you may not use existing implementations of PMI.</b>\n",
    "\n"
   ]
  },
  {
   "cell_type": "markdown",
   "metadata": {},
   "source": [
    "### 3a. Implement PMI [1 mark]\n",
    "\n",
    "Implement a function to compute PMI.\n"
   ]
  },
  {
   "cell_type": "markdown",
   "metadata": {},
   "source": [
    "<b>For your testing:</b>"
   ]
  },
  {
   "cell_type": "code",
   "execution_count": 665,
   "metadata": {},
   "outputs": [],
   "source": [
    "def pmi(features,labels,tgt_value,tgt_class):\n",
    "    labelresult=Counter(labels)\n",
    "    pmis={}\n",
    "    for i in range(len(features[0])):\n",
    "        featureresult=Counter(np.array(features)[:,i])\n",
    "        count=0\n",
    "        for j in range(len(features)):  \n",
    "            if features[j][i]==tgt_value and labels[j]==tgt_class:\n",
    "               count=count+1\n",
    "        if count==0:\n",
    "            pmis[i]=0\n",
    "        else:\n",
    "            Punity=count/len(features)\n",
    "            Pf=featureresult[tgt_value]/len(features)\n",
    "            Pl=labelresult[tgt_class]/len(labels)\n",
    "            pmis[i]=np.log2(Punity/(Pf*Pl))\n",
    "    return pmis"
   ]
  },
  {
   "cell_type": "code",
   "execution_count": 666,
   "metadata": {},
   "outputs": [],
   "source": [
    "test_features = [[1,1], [1,0], [0,1], [0,0]]\n",
    "test_labels = [1,1,0,0]\n",
    "test_pmi = pmi(test_features, test_labels, tgt_value=1,tgt_class=1)\n",
    "assert test_pmi[0]==1.0\n",
    "assert test_pmi[1]==0.0"
   ]
  },
  {
   "cell_type": "markdown",
   "metadata": {},
   "source": [
    "### 3b Create 1-R baseline [1 mark]\n",
    "\n",
    "- Apply your PMI function to the *1_hot feature representation* of training data, and determine the (i) 1-hot feature with *highest* PMI with class '>50K' () and (ii) 1-hot feature with *lowest* (most negative) PMI with class '>50K'. Store the name (string) of the corresponding highest/lowest PMI features in `highest_pmi_feature_name` and `lowest_pmi_feature_name`, respectively.\n",
    "\n",
    "- The feature with *highest* PMI will consitute your 1-R predictor, which you should use to predict the class labels for the test set (`one_r_predictions`)"
   ]
  },
  {
   "cell_type": "code",
   "execution_count": 667,
   "metadata": {},
   "outputs": [
    {
     "name": "stdout",
     "output_type": "stream",
     "text": [
      "The feature with highest PMI for the class '>50K' is:  Doctorate\n",
      "The feature with lowest PMI for the class '>50K' is:  Priv-house-serv\n",
      "[' <=50K', ' <=50K', ' <=50K', ' <=50K', ' <=50K', ' <=50K', ' <=50K', ' <=50K', ' <=50K', ' <=50K']\n"
     ]
    }
   ],
   "source": [
    "one_r_predictions = []\n",
    "pmi(x_train_1hot,y_train,tgt_value=1,tgt_class=' >50K')\n",
    "d_order=sorted(pmi(x_train_1hot,y_train,tgt_value=1,tgt_class=' >50K').items(),key=lambda x:x[1],reverse=False)\n",
    "highest_pmi_feature_name=get_cat_name(x_train_cat)[d_order[-1][0]]\n",
    "lowest_pmi_feature_name=get_cat_name(x_train_cat)[d_order[0][0]]\n",
    "print(f\"The feature with highest PMI for the class '>50K' is: {highest_pmi_feature_name}\")\n",
    "print(f\"The feature with lowest PMI for the class '>50K' is: {lowest_pmi_feature_name}\")\n",
    "for i in range(len(y_test)):\n",
    "    if x_test_1hot[i][d_order[-1][0]]== 1:\n",
    "        one_r_predictions.append(' >50K')\n",
    "    else:\n",
    "        one_r_predictions.append(' <=50K')\n",
    "print(one_r_predictions[:10])"
   ]
  },
  {
   "cell_type": "markdown",
   "metadata": {},
   "source": [
    "## Question 4: Naive Bayes [3 marks]\n",
    "\n",
    "We will construct three Naive Bayes classifiers\n",
    "\n",
    "1. One for instances with only 1-hot encoded (binary) categorical attributes.\n",
    "2. One for instances with only numerical attributes.\n",
    "3. One for instances with the full set of numerical *and* categorical attributes, ensuring that your classifier computes posterior class probabilities $p(y|x)$ as $p(x|y)p(y)$.\n",
    "\n",
    "For each classifier, you will \n",
    "1. Train it on the training set\n",
    "2. Use the models to predict labels for the test set\n"
   ]
  },
  {
   "cell_type": "markdown",
   "metadata": {},
   "source": [
    "### 4a Implementing the Naive Bayes classifiers [1.5 marks]\n",
    "\n",
    "Implement three functions which train a NB classifier given the specified input feature types and predict labels for a given test set.\n",
    "\n",
    "You may add additional quantities to your `return` statements.\n",
    "\n",
    "<b> You may (and are, indeed, encouraged) to, use the existing NB implementations from `sklearn`. You should use the default parameterizations of these algorithms.</b> \n",
    "    \n",
    "If you choose to implement your classifiers from scratch, please use Laplace smoothing (alpha=1) for the categorical feature NB.\n"
   ]
  },
  {
   "cell_type": "code",
   "execution_count": 668,
   "metadata": {},
   "outputs": [],
   "source": [
    "wholedata=[]\n",
    "wholelabel=[]        \n",
    "with open(\"adult.train\", mode='r') as tr:\n",
    "    for line in tr:\n",
    "        atts = line.strip().split(\",\")\n",
    "        wholedata.append(atts[:-1]) #all atts, excluding the class\n",
    "        wholelabel.append(atts[-1])\n",
    "with open(\"adult.test\", mode='r') as te:\n",
    "    for line in te:\n",
    "        atts = line.strip().split(\",\")\n",
    "        wholedata.append(atts[:-1]) #all atts, excluding the class(label)\n",
    "        wholelabel.append(atts[-1])"
   ]
  },
  {
   "cell_type": "code",
   "execution_count": 669,
   "metadata": {},
   "outputs": [],
   "source": [
    "from sklearn import datasets \n",
    "from sklearn.naive_bayes import MultinomialNB\n",
    "##Change all features to labelcode!!!!!!!\n",
    "def transfer_to_labelcoder(dataset):  \n",
    "    wo = LabelEncoder()\n",
    "    temp=[]\n",
    "    labelcode=[]\n",
    "    #transfer train feature LabelEncoder\n",
    "    for j in range(len(dataset[0])):\n",
    "            wo.fit(np.array(dataset)[:,j])\n",
    "            temp.append(wo.transform(np.array(dataset)[:,j]))\n",
    "    labelcode = [ [row[i] for row in temp] for i in range(len(temp[0])) ]          \n",
    "    return(labelcode)\n",
    "def nb_binary_features(train_features, train_labels, test_features):\n",
    "    predictions = []\n",
    "    clf = MultinomialNB()\n",
    "    clf.fit(train_features, train_labels)\n",
    "    predictions = clf.predict(test_features)\n",
    "    clf = MultinomialNB()\n",
    "    return predictions\n",
    "def nb_continuous_features(train_features, train_labels, test_features):\n",
    "    train=[]\n",
    "    test=[]\n",
    "    predictions = []\n",
    "    train_features=np.array(train_features)\n",
    "    test_features=np.array(test_features)\n",
    "    #convert to int \n",
    "    for i in range(len(train_features)):\n",
    "        train.append([])\n",
    "        for j in range(len(train_features[i])):\n",
    "            train[i].append(int(train_features[i][j]))\n",
    "    for i in range(len(test_features)):\n",
    "        test.append([])\n",
    "        for j in range(len(test_features[i])):\n",
    "            test[i].append(int(test_features[i][j]))   \n",
    "    clf = MultinomialNB()\n",
    "    clf.fit(train, train_labels)\n",
    "    predictions = clf.predict(test)\n",
    "    return predictions\n",
    "def nb_full(train_features, train_labels, test_features): \n",
    "    ohe = OneHotEncoder()\n",
    "    ohe.fit(train_features)\n",
    "    X_trans = ohe.transform(train_features).toarray()\n",
    "    X_trans1 = ohe.transform(test_features).toarray()\n",
    "    predictions = []\n",
    "    clf = MultinomialNB()\n",
    "    clf.fit(X_trans, train_labels)\n",
    "    predictions = clf.predict(X_trans1)\n",
    "    return predictions"
   ]
  },
  {
   "cell_type": "code",
   "execution_count": 670,
   "metadata": {},
   "outputs": [
    {
     "name": "stdout",
     "output_type": "stream",
     "text": [
      "[' <=50K' ' <=50K' ' >50K' ... ' >50K' ' <=50K' ' >50K']\n",
      "[' <=50K' ' <=50K' ' <=50K' ... ' <=50K' ' >50K' ' <=50K']\n",
      "[' <=50K' ' <=50K' ' >50K' ... ' >50K' ' <=50K' ' >50K']\n"
     ]
    }
   ],
   "source": [
    "print(nb_binary_features(x_train_1hot,y_train,x_test_1hot))\n",
    "print(nb_continuous_features(x_train_num,y_train,x_test_num))\n",
    "print(nb_full(wholedata,wholelabel,x_test))\n",
    "\n"
   ]
  },
  {
   "cell_type": "markdown",
   "metadata": {},
   "source": [
    "### 4b Apply your classifiers to the data sets you created in Questions 1 and 3b [0.5 marks]\n",
    "\n",
    "...namely, the\n",
    "\n",
    "1. 1-hot categorical features `x_{train,test}_1hot`\n",
    "2. numerical features `x_{train,test}_num`\n",
    "3. combined numerical and 1-hot categorical features `x_{train,test}_full`\n"
   ]
  },
  {
   "cell_type": "code",
   "execution_count": 671,
   "metadata": {},
   "outputs": [
    {
     "name": "stdout",
     "output_type": "stream",
     "text": [
      "Numerical NB predicted class distribution \t Counter({' <=50K': 15002, ' >50K': 1260})\n",
      "Categorical NB predicted class distribution\t Counter({' <=50K': 11212, ' >50K': 5050})\n",
      "Full NB predicted class distribution\t Counter({' <=50K': 12081, ' >50K': 4181})\n",
      "Counter({' <=50K': 12419, ' >50K': 3843})\n"
     ]
    }
   ],
   "source": [
    "from collections import Counter\n",
    "\n",
    "categorical_nb_predictions = nb_binary_features(x_train_1hot,y_train,x_test_1hot)\n",
    "numeric_nb_predictions = nb_continuous_features(x_train_num,y_train,x_test_num)\n",
    "full_nb_predictions=nb_full(wholedata,wholelabel,x_test)\n",
    "\n",
    "print(f\"Numerical NB predicted class distribution \\t {Counter(numeric_nb_predictions)}\")\n",
    "print(f\"Categorical NB predicted class distribution\\t {Counter(categorical_nb_predictions)}\")\n",
    "print(f\"Full NB predicted class distribution\\t {Counter(full_nb_predictions)}\")\n",
    "print(Counter(y_test))"
   ]
  },
  {
   "cell_type": "markdown",
   "metadata": {},
   "source": [
    "\n",
    "### 4c Explain your Naive Bayes classifier implementation on the full attribute set (numerical and binary features). [1 mark]\n",
    "\n",
    "Please limit your answer to 2-3 sentences\n"
   ]
  },
  {
   "cell_type": "raw",
   "metadata": {},
   "source": [
    "Combine train data and test data to a whole dataset, then use fit() to train them all, then the transform() can make the one-hot size of wholedataset and test  same, so can we use MultinomialNB() to predict the class."
   ]
  },
  {
   "cell_type": "markdown",
   "metadata": {},
   "source": [
    "## Question 5: Logistic Regression [2.5 marks]\n",
    "\n",
    "Apply a Logistic Regression classifier to the full training data set (`x_{train,test}_full`)\n",
    "\n",
    "<b> Use the existing implementation in sklearn with default parameters. </b>"
   ]
  },
  {
   "cell_type": "markdown",
   "metadata": {},
   "source": [
    "### 5a The Logistic Regression classifier [0.5 marks]"
   ]
  },
  {
   "cell_type": "code",
   "execution_count": 672,
   "metadata": {},
   "outputs": [
    {
     "name": "stdout",
     "output_type": "stream",
     "text": [
      "Counter({' <=50K': 14837, ' >50K': 1425})\n",
      "[-7.21387558e-03 -3.73286510e-06 -1.67825964e-03  3.39459956e-04\n",
      "  7.80962890e-04 -7.92572640e-03 -6.53593223e-05  1.42172837e-05\n",
      " -2.11567947e-06 -3.11884460e-04  3.84111813e-05 -2.09294529e-05\n",
      " -8.10313599e-06 -3.66649752e-05 -4.98638319e-05 -1.63724905e-05\n",
      " -6.12483078e-06 -1.19642566e-05 -2.76905298e-05 -2.05340648e-05\n",
      " -8.40118099e-06 -1.18541315e-05  9.81973438e-05  2.90157238e-05\n",
      " -2.53763649e-04  6.68810707e-05 -2.35850588e-06  3.32547049e-05\n",
      " -1.37519982e-04 -1.64020514e-04  6.97605095e-07  3.77231225e-04\n",
      " -1.61455754e-05 -4.71026000e-04 -4.01181347e-05 -4.23821912e-05\n",
      " -6.53593223e-05 -1.06488123e-04 -2.19518263e-07 -4.88516576e-05\n",
      "  1.16364285e-04 -3.89472776e-05 -5.24791514e-05 -5.67940170e-05\n",
      " -1.47613316e-04 -7.31367328e-06  9.14190391e-05  6.63184111e-06\n",
      " -2.14970139e-05  2.51473327e-06 -2.71304129e-05  3.36872624e-04\n",
      " -3.04279456e-04 -4.20716721e-05 -2.48113347e-04 -1.44674253e-04\n",
      "  4.65025189e-05 -1.58387319e-05 -1.28973282e-05 -7.43411278e-05\n",
      " -9.27412335e-06 -2.43412274e-04 -3.73557992e-04  1.77944066e-05\n",
      " -5.66922103e-06  1.86151993e-07  1.18083531e-07 -5.20699344e-07\n",
      " -2.36618703e-06  1.11453096e-06 -3.14551185e-06 -7.25159328e-07\n",
      " -3.02351071e-06  4.16142228e-07  8.09684495e-07  5.96788126e-07\n",
      " -7.93098508e-07 -1.96120532e-06 -1.19355990e-06 -3.26911905e-07\n",
      "  3.44936868e-07 -2.19778666e-07  1.13533802e-06  5.95934845e-07\n",
      " -5.87002115e-07  7.97858189e-07 -1.80025327e-06  7.04090715e-07\n",
      " -4.36990873e-07 -1.48200672e-05 -8.15152149e-07 -7.36739991e-07\n",
      " -2.50227787e-07 -9.96737229e-07 -1.48756268e-06 -3.36679206e-06\n",
      " -1.09779140e-07 -2.19658301e-06  9.85385807e-07 -2.83544769e-07\n",
      " -6.20440166e-07 -3.12206562e-04 -3.33857326e-06  4.29339990e-07]\n"
     ]
    }
   ],
   "source": [
    "from sklearn.linear_model import LogisticRegression\n",
    "lr_prediction =[]\n",
    "lr = LogisticRegression()\n",
    "lr.fit(transfer_to_floatversion(x_train_full), y_train)\n",
    "lr_prediction=lr.predict(transfer_to_floatversion(x_test_full))\n",
    "print(Counter(lr_prediction))\n",
    "print(lr.coef_[0])"
   ]
  },
  {
   "cell_type": "code",
   "execution_count": 687,
   "metadata": {},
   "outputs": [
    {
     "name": "stdout",
     "output_type": "stream",
     "text": [
      "{0: -0.0072138755790519555, 1: -3.7328651002995527e-06, 2: -0.0016782596410526564, 3: 0.0003394599563894541, 4: 0.0007809628903558092, 5: -0.007925726398241137, 6: -6.535932227514622e-05, 7: 1.421728366273114e-05, 8: -2.115679465371112e-06, 9: -0.0003118844596275048, 10: 3.841118129949208e-05, 11: -2.0929452932320778e-05, 12: -8.103135985802209e-06, 13: -3.666497518049846e-05, 14: -4.986383194133196e-05, 15: -1.6372490534483023e-05, 16: -6.124830781967234e-06, 17: -1.1964256579556898e-05, 18: -2.769052976958806e-05, 19: -2.05340647527776e-05, 20: -8.401180992116505e-06, 21: -1.1854131506711071e-05, 22: 9.819734383182207e-05, 23: 2.9015723779803417e-05, 24: -0.00025376364861786564, 25: 6.688107072742726e-05, 26: -2.358505884688427e-06, 27: 3.325470494069792e-05, 28: -0.00013751998206199554, 29: -0.00016402051430343027, 30: 6.976050948883326e-07, 31: 0.0003772312253068853, 32: -1.6145575443386998e-05, 33: -0.00047102600010380595, 34: -4.011813465996152e-05, 35: -4.238219121513341e-05, 36: -6.535932227514622e-05, 37: -0.00010648812329912444, 38: -2.195182633475964e-07, 39: -4.885165758210913e-05, 40: 0.000116364285095926, 41: -3.8947277623833826e-05, 42: -5.247915137297973e-05, 43: -5.679401697147562e-05, 44: -0.00014761331631671365, 45: -7.313673284047058e-06, 46: 9.141903908508932e-05, 47: 6.631841107244519e-06, 48: -2.1497013947783186e-05, 49: 2.5147332702936113e-06, 50: -2.713041294578571e-05, 51: 0.0003368726236240967, 52: -0.00030427945642902827, 53: -4.207167211411476e-05, 54: -0.00024811334655814877, 55: -0.00014467425279487587, 56: 4.6502518948303976e-05, 57: -1.5838731913581933e-05, 58: -1.2897328239680731e-05, 59: -7.434112778724092e-05, 60: -9.27412335110567e-06, 61: -0.00024341227403226124, 62: -0.0003735579919445482, 63: 1.7794406620708813e-05, 64: -5.669221026853385e-06, 65: 1.861519933222313e-07, 66: 1.1808353065008397e-07, 67: -5.20699344058636e-07, 68: -2.3661870301785025e-06, 69: 1.114530963396452e-06, 70: -3.1455118462644977e-06, 71: -7.251593278829925e-07, 72: -3.0235107093464167e-06, 73: 4.1614222783866347e-07, 74: 8.096844945268846e-07, 75: 5.967881264702952e-07, 76: -7.930985076061114e-07, 77: -1.961205317069596e-06, 78: -1.1935598989497887e-06, 79: -3.2691190548856737e-07, 80: 3.4493686837915777e-07, 81: -2.1977866587789811e-07, 82: 1.1353380151869265e-06, 83: 5.959348450724547e-07, 84: -5.870021145684357e-07, 85: 7.978581891167708e-07, 86: -1.8002532734921485e-06, 87: 7.040907151601227e-07, 88: -4.369908732329615e-07, 89: -1.482006716533895e-05, 90: -8.151521486377613e-07, 91: -7.367399911537851e-07, 92: -2.502277872997251e-07, 93: -9.967372289596344e-07, 94: -1.4875626800741608e-06, 95: -3.3667920619713143e-06, 96: -1.0977913983190131e-07, 97: -2.196583012629786e-06, 98: 9.853858072745964e-07, 99: -2.8354476877486764e-07, 100: -6.204401655178435e-07, 101: -0.00031220656184252025, 102: -3.3385732568353067e-06, 103: 4.293399901210092e-07}\n"
     ]
    }
   ],
   "source": [
    "a=[]\n",
    "for i in range(len(lr.coef_[0])):\n",
    "    a.append(i)\n",
    "dic = zip(a,lr.coef_[0])\n",
    "print(dict(dic))"
   ]
  },
  {
   "cell_type": "code",
   "execution_count": 691,
   "metadata": {},
   "outputs": [
    {
     "name": "stdout",
     "output_type": "stream",
     "text": [
      "[(96, 1.0977913983190131e-07), (66, 1.1808353065008397e-07), (65, 1.861519933222313e-07), (38, 2.195182633475964e-07), (81, 2.1977866587789811e-07), (92, 2.502277872997251e-07), (99, 2.8354476877486764e-07), (79, 3.2691190548856737e-07), (80, 3.4493686837915777e-07), (73, 4.1614222783866347e-07), (103, 4.293399901210092e-07), (88, 4.369908732329615e-07), (67, 5.20699344058636e-07), (84, 5.870021145684357e-07), (83, 5.959348450724547e-07), (75, 5.967881264702952e-07), (100, 6.204401655178435e-07), (30, 6.976050948883326e-07), (87, 7.040907151601227e-07), (71, 7.251593278829925e-07), (91, 7.367399911537851e-07), (76, 7.930985076061114e-07), (85, 7.978581891167708e-07), (74, 8.096844945268846e-07), (90, 8.151521486377613e-07), (98, 9.853858072745964e-07), (93, 9.967372289596344e-07), (69, 1.114530963396452e-06), (82, 1.1353380151869265e-06), (78, 1.1935598989497887e-06), (94, 1.4875626800741608e-06), (86, 1.8002532734921485e-06), (77, 1.961205317069596e-06), (8, 2.115679465371112e-06), (97, 2.196583012629786e-06), (26, 2.358505884688427e-06), (68, 2.3661870301785025e-06), (49, 2.5147332702936113e-06), (72, 3.0235107093464167e-06), (70, 3.1455118462644977e-06), (102, 3.3385732568353067e-06), (95, 3.3667920619713143e-06), (1, 3.7328651002995527e-06), (64, 5.669221026853385e-06), (16, 6.124830781967234e-06), (47, 6.631841107244519e-06), (45, 7.313673284047058e-06), (12, 8.103135985802209e-06), (20, 8.401180992116505e-06), (60, 9.27412335110567e-06), (21, 1.1854131506711071e-05), (17, 1.1964256579556898e-05), (58, 1.2897328239680731e-05), (7, 1.421728366273114e-05), (89, 1.482006716533895e-05), (57, 1.5838731913581933e-05), (32, 1.6145575443386998e-05), (15, 1.6372490534483023e-05), (63, 1.7794406620708813e-05), (19, 2.05340647527776e-05), (11, 2.0929452932320778e-05), (48, 2.1497013947783186e-05), (50, 2.713041294578571e-05), (18, 2.769052976958806e-05), (23, 2.9015723779803417e-05), (27, 3.325470494069792e-05), (13, 3.666497518049846e-05), (10, 3.841118129949208e-05), (41, 3.8947277623833826e-05), (34, 4.011813465996152e-05), (53, 4.207167211411476e-05), (35, 4.238219121513341e-05), (56, 4.6502518948303976e-05), (39, 4.885165758210913e-05), (14, 4.986383194133196e-05), (42, 5.247915137297973e-05), (43, 5.679401697147562e-05), (6, 6.535932227514622e-05), (36, 6.535932227514622e-05), (25, 6.688107072742726e-05), (59, 7.434112778724092e-05), (46, 9.141903908508932e-05), (22, 9.819734383182207e-05), (37, 0.00010648812329912444), (40, 0.000116364285095926), (28, 0.00013751998206199554), (55, 0.00014467425279487587), (44, 0.00014761331631671365), (29, 0.00016402051430343027), (61, 0.00024341227403226124), (54, 0.00024811334655814877), (24, 0.00025376364861786564), (52, 0.00030427945642902827), (9, 0.0003118844596275048), (101, 0.00031220656184252025), (51, 0.0003368726236240967), (3, 0.0003394599563894541), (62, 0.0003735579919445482), (31, 0.0003772312253068853), (33, 0.00047102600010380595), (4, 0.0007809628903558092), (2, 0.0016782596410526564), (0, 0.0072138755790519555), (5, 0.007925726398241137)]\n"
     ]
    }
   ],
   "source": [
    "#Take the absolute value\n",
    "totalabs=[]\n",
    "a=[]\n",
    "for i in range(len(lr.coef_[0])):\n",
    "    totalabs.append(abs(lr.coef_[0][i]))\n",
    "totalabs=np.array(totalabs)\n",
    "for i in range(len(lr.coef_[0])):\n",
    "    a.append(i)\n",
    "dic = zip(a,totalabs)\n",
    "order=sorted(dict(dic).items(),key=lambda x:x[1],reverse=False)\n",
    "print(order)"
   ]
  },
  {
   "cell_type": "code",
   "execution_count": 623,
   "metadata": {},
   "outputs": [
    {
     "name": "stdout",
     "output_type": "stream",
     "text": [
      "[(39, -5.16672902846202), (48, -4.185537380669371), (64, -3.076843524944825), (62, -2.8302035573617004), (10, -2.7549154300574634), (47, -2.67474508137348), (38, -2.5338387361636814), (27, -2.38871290636816), (71, -2.362598007278703), (11, -2.3269388750711215), (8, -2.2378866055013926), (83, -2.2318413159693526), (13, -2.1954880214434445), (84, -2.035023349250199), (12, -1.9565492912271139), (36, -1.9391482681836592), (49, -1.927988359959914), (28, -1.9045745830342142), (85, -1.9017568183867342), (7, -1.8560015551717777), (96, -1.6917216035702691), (9, -1.6613896033681306), (73, -1.6480002261409512), (26, -1.5640012401941834), (66, -1.5055559611207459), (29, -1.4909108190486453), (72, -1.4069921266371563), (54, -1.385853359579006), (46, -1.2244675924197288), (0, -1.2124820233779183), (30, -1.2124820233779183), (23, -1.2087111180647157), (89, -1.1954880214434447), (94, -1.1954880214434447), (88, -1.157013873628809), (56, -1.1370665448929695), (32, -1.1174855094421714), (82, -1.1174855094421714), (51, -1.0584062766881495), (35, -1.0504376886401616), (80, -0.9654824159971214), (53, -0.9563871997668127), (37, -0.9475605079998591), (31, -0.8409188889439114), (65, -0.7549154300574633), (18, -0.5940670979891165), (93, -0.5325230087210154), (22, -0.33933298475460044), (91, -0.26948860288722154), (87, -0.2694886028872214), (44, -0.26497312176472826), (78, -0.2105949138336528), (3, -0.139951209667085), (33, -0.0880257216172062), (75, -0.0630377254197952), (20, 0), (95, 0.029189831281396413), (14, 0.04429631869152662), (90, 0.052439492000140905), (58, 0.05491197767966182), (55, 0.08721479854202127), (15, 0.11575261849905341), (63, 0.1264400734439179), (52, 0.14137322042042888), (61, 0.14554889639162244), (42, 0.16020166275623976), (6, 0.17500110101962157), (70, 0.1944584968725686), (5, 0.24167259742381805), (2, 0.29089903490261737), (74, 0.3154738978339344), (43, 0.339116739704451), (57, 0.3441916149896826), (86, 0.36112501010665077), (69, 0.4138390276769114), (60, 0.4189784735877949), (41, 0.43146401270818724), (67, 0.46747699127898457), (79, 0.5064711228948482), (59, 0.6118669006141594), (97, 0.6374019927212968), (1, 0.6808242730124259), (81, 0.6832056823344218), (92, 0.7019422449160077), (76, 0.7305113971127787), (68, 0.7794209975937247), (16, 0.7838403559457594), (77, 0.7960997387403553), (24, 0.8508056308304904), (25, 0.8914529714876676), (45, 0.8965047001998139), (40, 0.8980326170596128), (50, 0.9834340443500005), (34, 1.0069794730432278), (19, 1.2071195107933237), (4, 1.2090889503015558), (21, 1.6070283436777781), (17, 1.6198293632733474)]\n"
     ]
    }
   ],
   "source": [
    "print(d_order)#PMI"
   ]
  },
  {
   "cell_type": "markdown",
   "metadata": {},
   "source": [
    "### 5b Inspect the learnt coefficients [2 marks]\n",
    "\n",
    "**Part 1**\n",
    "Inspect the coefficients (weights) learnt by the classifier, and compare them to the PMI values in Question 1. You should update your code above in order to achieve this. Please indicate through comments which parts of the code are relevant to question 5b.\n",
    "\n",
    "**Part 2**\n",
    "What does a high coefficient for a feature imply? For which two features does your model learn the largest coefficients? Compare your answer to the highest PMI features you detected in Q3."
   ]
  },
  {
   "cell_type": "markdown",
   "metadata": {},
   "source": [
    "The higher the coefficient, the greater influence of the appearance of this feature on the result prediction result is.\n",
    "\n",
    "features (0 and 5) are largest coefficients, age and hours-per-week(absolute value)\n",
    "PMI: Doctorate  and Prof-school"
   ]
  },
  {
   "cell_type": "markdown",
   "metadata": {},
   "source": [
    "## Question 6: Evaluation [1 mark]\n",
    "\n",
    "We will evaluate our baselines and classifiers on the instances in the test set. \n",
    "\n",
    "Compute \n",
    "- accuracy\n",
    "- macro-averaged F1 score \n",
    "\n",
    "for the two baselines, the three NB classifiers and the LR classifier.\n",
    "\n",
    "**You may use existing implementations and/or Python libraries like numpy, scipy or sklearn.**"
   ]
  },
  {
   "cell_type": "code",
   "execution_count": 674,
   "metadata": {},
   "outputs": [
    {
     "name": "stdout",
     "output_type": "stream",
     "text": [
      "Zero R\t\tAccuracy: 0.76\tMacro F1: 0.43\n",
      "One  R\t\tAccuracy: 0.77\tMacro F1: 0.46\n",
      "NB Num \t\tAccuracy: 0.79\tMacro F1: 0.6\n",
      "NB Cat \t\tAccuracy: 0.8\tMacro F1: 0.75\n",
      "NB Full \tAccuracy: 0.88\tMacro F1: 0.84\n",
      "LR \t\tAccuracy: 0.8\tMacro F1: 0.63\n"
     ]
    }
   ],
   "source": [
    "from sklearn.metrics import accuracy_score, f1_score\n",
    "\n",
    "zero_r_acc=accuracy_score(zero_r_prediction ,y_test)\n",
    "one_r_acc=accuracy_score(one_r_predictions,y_test)\n",
    "num_nb_acc=accuracy_score(numeric_nb_predictions,y_test)\n",
    "cat_nb_acc=accuracy_score(categorical_nb_predictions,y_test)\n",
    "full_nb_acc=accuracy_score(full_nb_predictions,y_test)\n",
    "lr_acc=accuracy_score(lr_prediction,y_test)\n",
    "\n",
    "zero_r_f1=f1_score(y_test,zero_r_prediction, average='macro')\n",
    "one_r_f1=f1_score(y_test,one_r_predictions, average='macro')\n",
    "num_nb_f1=f1_score(y_test,numeric_nb_predictions, average='macro')\n",
    "cat_nb_f1=f1_score(y_test,categorical_nb_predictions, average='macro')\n",
    "full_nb_f1=f1_score(y_test,full_nb_predictions, average='macro')\n",
    "lr_f1=f1_score(y_test,lr_prediction, average='macro')\n",
    "\n",
    "\n",
    "\n",
    "print(f\"Zero R\\t\\tAccuracy: {round(zero_r_acc, 2)}\\tMacro F1: {round(zero_r_f1, 2)}\")\n",
    "print(f\"One  R\\t\\tAccuracy: {round(one_r_acc, 2)}\\tMacro F1: {round(one_r_f1, 2)}\")\n",
    "print(f\"NB Num \\t\\tAccuracy: {round(num_nb_acc, 2)}\\tMacro F1: {round(num_nb_f1, 2)}\")\n",
    "print(f\"NB Cat \\t\\tAccuracy: {round(cat_nb_acc, 2)}\\tMacro F1: {round(cat_nb_f1, 2)}\")\n",
    "print(f\"NB Full \\tAccuracy: {round(full_nb_acc, 2)}\\tMacro F1: {round(full_nb_f1, 2)}\")\n",
    "print(f\"LR \\t\\tAccuracy: {round(lr_acc, 2)}\\tMacro F1: {round(lr_f1, 2)}\")"
   ]
  },
  {
   "cell_type": "markdown",
   "metadata": {},
   "source": [
    "## Question 7: Discussion [5 marks]\n",
    "\n",
    "Critically analyze the performance of the models by answering the following questions. \n",
    "\n",
    "**(a)** The three Naive Bayes (NB) classifiers lead to different performance. Which of the three NB classifiers performs best, and why do you think it is the case? **[1 mark]**\n",
    "\n",
    "**(b)** There is a systematic difference between Accuracy and F1 score, across all models. Describe and explain the difference in the context of the data set. **[1 mark]**\n",
    "\n",
    "**(c)** Assume that your best classifier will be deployed in a bank to decide whether a customer will be granted a loan, or not. A loan will be granted if the classifier predicts an income of \">50K\", othewise it won't. The bank manager wants to avoid falsely granting a loan to an applicant with insufficient income by all means. Can you reassure the bank manager with the evaluation results in Q7 that your classifier is adequate? If not, describe an alternative evaluation metric and explain why it is more appropriate.\n",
    "\n",
    "**(d)** Do you observe a clear difference in performance between NB and Logistic Regression (LR) in Q7? Referring to the number of parameters and assumptions underlying each model, provide one reason why NB might outperform LR, and one reason why LR might outperform NB. In your answer, refer back to the *Adult* data set used in this assignment. **[1 mark]**\n",
    "\n",
    "**(e)** Assume that you have access to a (hypothetical) infinitely large U.S. census database (i.e., an enormous version of the *Adult* data set used in this assignment). Is it true that Logistic Regression, but not Naive Bayes, will achieve perfect test set performance? Why (not)? **[1 mark]**\n",
    "\n",
    "<b>We expect a maximum of 2-3 sentences per questinon."
   ]
  },
  {
   "cell_type": "markdown",
   "metadata": {},
   "source": [
    "_Your answer here_\n",
    "\n",
    "(a)The third  NB classifiers  NB classifiers best，because all features are one-hot form，Sparse matrix makes feature distribution more reasonable\n",
    " \n",
    "\n",
    "(b)F1=2*P*R/(P+R) cause there are much more <=50K than >50k, so accuracy isn't a good metric, so recall and precision value will be different with accuracy and so that F1 socre is systematic different with accuracy\n",
    "\n",
    "(c)Can’t ensure the accuracy of the forecast,cause In the case of binary classification and the positive and negative examples are unbalanced,The accuracy evaluation is basically of no reference value .recall and Specificity metric Pay more attention to the relationship between the true value and the true value predicted , Once we konw of real richman who >50K, we can calculate the recall and Specificity score, if it's high, means our prediction is good.\n",
    "\n",
    "\n",
    "(d)NB  outperform LR, For NB, we don’t need to optimize the parameters，when we don't have much more data to optimize coefficient,NB is better. \n",
    "  LR might outperform NB,When the data dissatisfaction condition is independent hypothesis LR work better and when We have detailed data to train the model, LR is better.\n",
    "\n",
    "\n",
    "(e)No,it's depends, if  the data set is too large ,LR Prone to under-fitting, generally not very accurate.When the feature space is large, the performance of logistic regression is not very good;So,There is no free lunch, lot's of algorithm should be considered in given situation"
   ]
  },
  {
   "cell_type": "markdown",
   "metadata": {},
   "source": [
    "## Final thoughts ...\n",
    "\n",
    "Do you think it is ethical and safe to build and deploy income-level classifiers based on the set of attributes provided with the data set? Could such a classifier do harm if not developed, tested and deployed carefully?\n",
    "\n",
    "When predicting the income of a person, should demographic attributes like 'gender' or 'race' even be considered? Due to historical events there are systematic income differences between men/women and people of different ethnicities. But no doubt these are *correlations* and not factors to be used to *predict* income in the future. \n",
    "\n",
    "But ML models are only as good as their input data: a naively developed ML algorithm will reflect, and often amplify, biases in the data.\n",
    "\n",
    "In the last 1-2 weeks of this subject we will discuss ethics in machine learning and look at questions such as\n",
    "- historical artifacts which lead to biased data sets, and hence potentially biased ML algorithms\n",
    "- how to determine whether an algorithm is indeed biased\n",
    "- how to mitigate bias in the data and in algorithms\n",
    "\n"
   ]
  }
 ],
 "metadata": {
  "kernelspec": {
   "display_name": "Python 3",
   "language": "python",
   "name": "python3"
  },
  "language_info": {
   "codemirror_mode": {
    "name": "ipython",
    "version": 3
   },
   "file_extension": ".py",
   "mimetype": "text/x-python",
   "name": "python",
   "nbconvert_exporter": "python",
   "pygments_lexer": "ipython3",
   "version": "3.8.5"
  }
 },
 "nbformat": 4,
 "nbformat_minor": 4
}
