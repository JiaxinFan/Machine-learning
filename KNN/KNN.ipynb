{
 "cells": [
  {
   "cell_type": "markdown",
   "metadata": {
    "colab_type": "text",
    "id": "W_oI1y6-cY4d"
   },
   "source": [
    "# Assignment 1: K-Nearest Neighbors Classification (15 marks)"
   ]
  },
  {
   "cell_type": "markdown",
   "metadata": {
    "colab_type": "text",
    "collapsed": true,
    "id": "XIBjsAqjcY4e"
   },
   "source": [
    "Student Name:JIAXIN FAN\n",
    "\n",
    "Student ID:1163511"
   ]
  },
  {
   "cell_type": "markdown",
   "metadata": {
    "colab_type": "text",
    "id": "1Huv7ALVcY4f"
   },
   "source": [
    "## General info"
   ]
  },
  {
   "cell_type": "markdown",
   "metadata": {
    "colab_type": "text",
    "id": "p07JVvoScY4g"
   },
   "source": [
    "<b>Due date</b>: Friday, 19 March 2021 5pm\n",
    "\n",
    "<b>Submission method</b>: Canvas submission\n",
    "\n",
    "<b>Submission materials</b>: completed copy of this iPython notebook\n",
    "\n",
    "<b>Late submissions</b>: -10% per day (both week and weekend days counted)\n",
    "\n",
    "<b>Marks</b>: 15% of mark for class. \n",
    "\n",
    "<b>Materials</b>: See [Using Jupyter Notebook and Python page](https://canvas.lms.unimelb.edu.au/courses/105477/pages/python-and-jupyter-notebooks?module_item_id=2613813) on Canvas (under Modules> Coding Resources) for information on the basic setup required for this class, including an iPython notebook viewer and the python packages NLTK, Numpy, Scipy, Matplotlib, Scikit-Learn, and Gensim. In particular, if you are not using a lab computer which already has it installed, we recommend installing all the data for NLTK, since you will need various parts of it to complete this assignment. Deep learning libraries such as keras and pytorch are also allowed.  You can also use any Python built-in packages, but do not use any other 3rd party packages (the packages listed above are all fine to use); if your iPython notebook doesn't run on the marker's machine, you will lose marks. <b> You should use Python 3</b>.  \n",
    "\n",
    "\n",
    "<b>Evaluation</b>: Your iPython notebook should run end-to-end without any errors in a reasonable amount of time, and you must follow all instructions provided below, including specific implementation requirements and instructions for what needs to be printed (please avoid printing output we don't ask for). You should edit the sections below where requested, but leave the rest of the code as is. You should leave the output from running your code in the iPython notebook you submit, to assist with marking. The amount each section is worth is given in parenthesis after the instructions. \n",
    "\n",
    "You will be marked not only on the correctness of your methods, but also the quality and efficency of your code: in particular, you should be careful to use Python built-in functions and operators when appropriate and pick descriptive variable names that adhere to <a href=\"https://www.python.org/dev/peps/pep-0008/\">Python style requirements</a>. If you think it might be unclear what you are doing, you should comment your code to help the marker make sense of it. We reserve the right to deduct up to 2 marks for unreadable or exessively inefficient code.\n",
    "\n",
    "<b>Updates</b>: Any major changes to the assignment will be announced via Canvas. Minor changes and clarifications will be announced on the discussion board (Piazza -> Assignment_1); we recommend you check it regularly.\n",
    "\n",
    "<b>Academic misconduct</b>: For most people, collaboration will form a natural part of the undertaking of this homework, and we encourge you to discuss it in general terms with other students. However, this ultimately is still an individual task, and so reuse of code or other instances of clear influence will be considered cheating. Please check the <a href=\"https://canvas.lms.unimelb.edu.au/courses/105477/modules\">CIS Academic Honesty training</a> for more information. We will be checking submissions for originality and will invoke the University’s <a href=\"http://academichonesty.unimelb.edu.au/policy.html\">Academic Misconduct policy</a> where inappropriate levels of collusion or plagiarism are deemed to have taken place."
   ]
  },
  {
   "cell_type": "markdown",
   "metadata": {
    "colab_type": "text",
    "id": "wseHhYGScY4g"
   },
   "source": [
    "## Overview"
   ]
  },
  {
   "cell_type": "markdown",
   "metadata": {
    "colab_type": "text",
    "id": "wH9UvbJTcY4h"
   },
   "source": [
    "In this assignment, you will implement the K-nearest neighbor (KNN) classification algorithm and apply it to a real-world machine learning data set. In particular we will classify zoo animals into seven animal categories. \n",
    "\n",
    "Firstly, you will read in the dataset into a train and a test set (Q1). Secondly, you will implement different distance functions (Q2). Thirdly, you will implement a KNN classifier (Q3). You will apply and evaluate your classifier on the data set exploring different parameters (Q4, Q5). Finally, you will critically discuss your results (Q6)."
   ]
  },
  {
   "cell_type": "markdown",
   "metadata": {},
   "source": [
    "# Question 1: Loading the data (2.0 marks)\n",
    "\n",
    "**Instructions:** For this assignment we will develop a K-Nearest Neighbors (KNN) classifier to classify animals in the zoo into pre-defined categories of animals, namely\n",
    "```\n",
    "1: mammal\n",
    "2: bird\n",
    "3: reptile\n",
    "4: fish\n",
    "5: amphibian\n",
    "6: insect\n",
    "7: invertebrate\n",
    "```\n",
    "\n",
    "We use a data set of zoo animals from the UCI Machine learning repository.\n",
    "\n",
    "The original data can be found here: https://archive.ics.uci.edu/ml/datasets/Zoo. \n",
    "\n",
    "The dataset consists of 101 instances. Each instance corresponds to an animal which has a unique identifier (the name of the animal; first field) and is characterized with 16 features:\n",
    "\n",
    "```\n",
    "   1. hair\t\t    Boolean\n",
    "   2. feathers\t\tBoolean\n",
    "   3. eggs\t\t    Boolean\n",
    "   4. milk\t\t    Boolean\n",
    "   5. airborne\t\tBoolean\n",
    "   6. aquatic\t\tBoolean\n",
    "   7. predator\t\tBoolean\n",
    "   8. toothed\t\tBoolean\n",
    "   9. backbone\t\tBoolean\n",
    "  10. breathes\t\tBoolean\n",
    "  11. venomous\t\tBoolean\n",
    "  12. fins\t\t    Boolean\n",
    "  13. legs\t\t    Numeric (set of values: {0,2,4,5,6,8})\n",
    "  14. tail\t\t    Boolean\n",
    "  15. domestic\t\tBoolean\n",
    "  16. catsize\t\tBoolean\n",
    "```\n",
    "\n",
    "You need to first obtain this dataset, which is on Canvas (assignment 1). The files we will be using are called *zoo.data* and *zoo.labels*. Make sure the files are saved in the same folder as this notebook.\n",
    "\n",
    "Both files are in comma-separated value format.\n",
    "\n",
    "*zoo.features* contains 101 instances, one line per instance. The first field is the unique instance identifier (name of animals). The following fields contain the 16 features, as described above.\n",
    "\n",
    "*zoo.labels* contains the gold labels (i.e., one of the seven classes above), for one instance per line. Again, the first field is the instance identifier, and the second field the instance label.\n",
    "\n",
    "**Task**: Read the two files  \n",
    "1. create a **training_feature** set (list of features for the first 90 instances in the zoo.* files) and a **training_label** set (list of labels for the corresponding). \n",
    "2. create a **test_feature** set (list of features of the remaining instances in the zoo.* files) and a **test_label** set (list of labels for the corresponding). \n",
    "\n",
    "**Check**: Use the assertion statements in *\"For your testing\"* to validate your code."
   ]
  },
  {
   "cell_type": "code",
   "execution_count": 1,
   "metadata": {
    "scrolled": true
   },
   "outputs": [
    {
     "name": "stdout",
     "output_type": "stream",
     "text": [
      "    hair  feathers  eggs  milk  airborne  aquatic  predator  toothed  \\\n",
      "0      1         0     0     1         0        0         1        1   \n",
      "1      1         0     0     1         0        0         0        1   \n",
      "2      0         0     1     0         0        1         1        1   \n",
      "3      1         0     0     1         0        0         1        1   \n",
      "4      1         0     0     1         0        0         1        1   \n",
      "..   ...       ...   ...   ...       ...      ...       ...      ...   \n",
      "85     0         0     1     0         0        1         1        0   \n",
      "86     0         0     1     0         0        1         1        1   \n",
      "87     0         1     1     0         1        1         0        0   \n",
      "88     0         0     1     0         0        0         0        0   \n",
      "89     0         0     1     0         0        1         0        1   \n",
      "\n",
      "    backbone  breathes  venomous  fins  legs  tail  domestic  catsize  \n",
      "0          1         1         0     0     4     0         0        1  \n",
      "1          1         1         0     0     4     1         0        1  \n",
      "2          1         0         0     1     0     1         0        0  \n",
      "3          1         1         0     0     4     0         0        1  \n",
      "4          1         1         0     0     4     1         0        1  \n",
      "..       ...       ...       ...   ...   ...   ...       ...      ...  \n",
      "85         0         0         0     0     5     0         0        0  \n",
      "86         1         0         1     1     0     1         0        1  \n",
      "87         1         1         0     0     2     1         0        1  \n",
      "88         0         1         0     0     6     0         0        0  \n",
      "89         1         1         0     0     4     0         0        0  \n",
      "\n",
      "[90 rows x 16 columns]\n",
      "    gold\n",
      "0      1\n",
      "1      1\n",
      "2      4\n",
      "3      1\n",
      "4      1\n",
      "..   ...\n",
      "85     7\n",
      "86     4\n",
      "87     2\n",
      "88     6\n",
      "89     5\n",
      "\n",
      "[90 rows x 1 columns]\n",
      "     hair  feathers  eggs  milk  airborne  aquatic  predator  toothed  \\\n",
      "90      0         0     1     0         0        0         0        0   \n",
      "91      0         0     1     0         0        0         1        1   \n",
      "92      0         0     1     0         0        1         1        1   \n",
      "93      1         0     0     1         1        0         0        1   \n",
      "94      1         0     0     1         0        0         0        1   \n",
      "95      0         1     1     0         1        0         1        0   \n",
      "96      1         0     0     1         0        0         0        1   \n",
      "97      1         0     1     0         1        0         0        0   \n",
      "98      1         0     0     1         0        0         1        1   \n",
      "99      0         0     1     0         0        0         0        0   \n",
      "100     0         1     1     0         1        0         0        0   \n",
      "\n",
      "     backbone  breathes  venomous  fins  legs  tail  domestic  catsize  \n",
      "90          1         1         0     0     4     1         0        1  \n",
      "91          1         1         0     0     4     1         0        0  \n",
      "92          1         0         0     1     0     1         0        1  \n",
      "93          1         1         0     0     2     1         0        0  \n",
      "94          1         1         0     0     4     1         0        0  \n",
      "95          1         1         0     0     2     1         0        1  \n",
      "96          1         1         0     0     2     1         0        1  \n",
      "97          0         1         1     0     6     0         0        0  \n",
      "98          1         1         0     0     4     1         0        1  \n",
      "99          0         1         0     0     0     0         0        0  \n",
      "100         1         1         0     0     2     1         0        0  \n",
      "     gold\n",
      "90      3\n",
      "91      3\n",
      "92      4\n",
      "93      1\n",
      "94      1\n",
      "95      2\n",
      "96      1\n",
      "97      6\n",
      "98      1\n",
      "99      7\n",
      "100     2\n"
     ]
    }
   ],
   "source": [
    "\n",
    "import numpy as np \n",
    "import pandas as pd\n",
    "from pandas import Series, DataFrame\n",
    "\n",
    "#Using dataframe\n",
    "data= pd.read_csv(\"zoo.features\",names=[\"name\",\"hair\",\"feathers\",\"eggs\",\"milk\",\"airborne\",\"aquatic\",\"predator\",\"toothed\",\"backbone\",\"breathes\",\"venomous\",\"fins\",\"legs\",\"tail\",\"domestic\",\"catsize\"], header =None, sep=\",\")\n",
    "gold= pd.read_csv(\"zoo.labels\", names=[\"name\",\"gold\"],header =None, sep=\",\")\n",
    "\n",
    "#drop name to show features\n",
    "data.drop([\"name\"],axis=1,inplace=True)\n",
    "gold.drop([\"name\"],axis=1,inplace=True)\n",
    "\n",
    "\n",
    "train_features = []\n",
    "train_labels = []\n",
    "test_features = []\n",
    "test_labels = []\n",
    "\n",
    "train_features = data[0:90]\n",
    "test_features = data[90:101]\n",
    "train_labels = gold[0:90]\n",
    "test_labels = gold[90:101]\n",
    "\n",
    "print(train_features)\n",
    "print(train_labels)\n",
    "print(test_features)\n",
    "print(test_labels)\n",
    "\n",
    "# convert dataframe to array to pass the assert and convenient to calculate\n",
    "train_features=train_features.values\n",
    "test_features=test_features.values\n",
    "train_labels=train_labels.values\n",
    "test_labels=test_labels.values\n",
    "#check\n",
    "# print(train_features[3][12])\n",
    "\n"
   ]
  },
  {
   "cell_type": "markdown",
   "metadata": {},
   "source": [
    "<b>For your testing</b>"
   ]
  },
  {
   "cell_type": "code",
   "execution_count": 2,
   "metadata": {},
   "outputs": [
    {
     "data": {
      "text/plain": [
       "array([[0, 0, 1, 0, 0, 0, 0, 0, 1, 1, 0, 0, 4, 1, 0, 1],\n",
       "       [0, 0, 1, 0, 0, 0, 1, 1, 1, 1, 0, 0, 4, 1, 0, 0],\n",
       "       [0, 0, 1, 0, 0, 1, 1, 1, 1, 0, 0, 1, 0, 1, 0, 1],\n",
       "       [1, 0, 0, 1, 1, 0, 0, 1, 1, 1, 0, 0, 2, 1, 0, 0],\n",
       "       [1, 0, 0, 1, 0, 0, 0, 1, 1, 1, 0, 0, 4, 1, 0, 0],\n",
       "       [0, 1, 1, 0, 1, 0, 1, 0, 1, 1, 0, 0, 2, 1, 0, 1],\n",
       "       [1, 0, 0, 1, 0, 0, 0, 1, 1, 1, 0, 0, 2, 1, 0, 1],\n",
       "       [1, 0, 1, 0, 1, 0, 0, 0, 0, 1, 1, 0, 6, 0, 0, 0],\n",
       "       [1, 0, 0, 1, 0, 0, 1, 1, 1, 1, 0, 0, 4, 1, 0, 1],\n",
       "       [0, 0, 1, 0, 0, 0, 0, 0, 0, 1, 0, 0, 0, 0, 0, 0],\n",
       "       [0, 1, 1, 0, 1, 0, 0, 0, 1, 1, 0, 0, 2, 1, 0, 0]], dtype=int64)"
      ]
     },
     "execution_count": 2,
     "metadata": {},
     "output_type": "execute_result"
    }
   ],
   "source": [
    "test_features"
   ]
  },
  {
   "cell_type": "code",
   "execution_count": 3,
   "metadata": {
    "scrolled": true
   },
   "outputs": [],
   "source": [
    "assert len(train_features) == len(train_labels)\n",
    "assert len(train_features[0])==len(train_features[-1])\n",
    "assert train_features[2][12]==0 and train_labels[2]==4"
   ]
  },
  {
   "cell_type": "markdown",
   "metadata": {
    "colab_type": "text",
    "collapsed": true,
    "id": "V2OlvNAicY4i"
   },
   "source": [
    "### Question 2: Distance Functions (2.0 marks)\n",
    "\n",
    "<b>Instructions</b>: Implement the four distance functions specified below. Use <b>only</b> the library imported below, i.e., <b>do not</b> use implementations from any other Python library. \n",
    "\n",
    "1. Eucledian distance\n",
    "2. Cosine distance\n",
    "3. Hamming distance \n",
    "4. Jaccard distance \n",
    "\n",
    "Each distance function takes as input\n",
    "- Two feature vectors\n",
    "\n",
    "and returns as output\n",
    "- The distance between the two feature vectors (float)\n",
    "\n",
    "**Note** for the purpose of this assignment we consider the numeric feature (legs) to be discretized already with each individual value belonging constituting a separate class."
   ]
  },
  {
   "cell_type": "code",
   "execution_count": 4,
   "metadata": {
    "colab": {
     "base_uri": "https://localhost:8080/",
     "height": 139
    },
    "colab_type": "code",
    "executionInfo": {
     "elapsed": 10593,
     "status": "ok",
     "timestamp": 1588139440049,
     "user": {
      "displayName": "Jey Han Lau",
      "photoUrl": "",
      "userId": "09065329932778503205"
     },
     "user_tz": -600
    },
    "id": "szPlY9PIcY4j",
    "outputId": "218560c5-6e80-4a8b-bfaf-5cb46b90f34c",
    "scrolled": true
   },
   "outputs": [],
   "source": [
    "import math\n",
    "\n",
    "def eucledian_distance(fv1,fv2):\n",
    "    assert len(fv1)==len(fv2), \"Arrays are of different sizes!\"\n",
    "    return np.sqrt(sum([(fv1[i]-fv2[i])*(fv1[i]-fv2[i]) for i in range(len(fv1))]))\n",
    "def cosine_distance(fv1, fv2):\n",
    "    assert len(fv1)==len(fv2), \"Arrays are of different sizes!\"\n",
    "    return (1-(sum([(fv1[i]*fv2[i]) for i in range(len(fv1))])/np.sqrt(sum([(fv1[i]*fv1[i]) for i in range(len(fv1))]))*np.sqrt(sum([(fv2[i]*fv2[i]) for i in range(len(fv1))]))))\n",
    "def hamming_distance(fv1, fv2):\n",
    "    assert len(fv1)==len(fv2), \"Arrays are of different sizes!\"\n",
    "    sum=0\n",
    "    for i in range(len(fv1)):\n",
    "     if fv1[i]!=fv2[i]:\n",
    "      sum+=1\n",
    "    else:\n",
    "     pass\n",
    "    return sum\n",
    "def jaccard_distance(fv1, fv2):\n",
    "    assert len(fv1)==len(fv2), \"Arrays are of different sizes!\"\n",
    "    # insert code here\n",
    "    #A∩B \n",
    "    intersection=int()\n",
    "    #A∪B\n",
    "    union=int()\n",
    "    for i in range(len(fv1)):\n",
    "        if fv1[i]==fv2[i] and fv2[i]!=0:\n",
    "         intersection+=1\n",
    "         union+=1\n",
    "        elif fv1[i]!=fv2[i]:\n",
    "         union+=1\n",
    "        else :\n",
    "         pass\n",
    "            \n",
    "    return(1-(intersection/union))\n",
    "\n",
    "\n"
   ]
  },
  {
   "cell_type": "markdown",
   "metadata": {
    "colab_type": "text",
    "id": "JTt3T9fycY4p"
   },
   "source": [
    "<b>For your testing: </b>"
   ]
  },
  {
   "cell_type": "code",
   "execution_count": 5,
   "metadata": {
    "colab": {},
    "colab_type": "code",
    "id": "PCkSP91lcY4q"
   },
   "outputs": [],
   "source": [
    "assert round(eucledian_distance([1,0],[0.5,1]),2)==1.12 \n",
    "assert jaccard_distance([1,1,1,1], [0,1,0,0])==0.75\n",
    "assert cosine_distance([1,1,1,1], [0,1,0,0])==0.5\n",
    "assert hamming_distance([1,1,1,1,0,0], [0,1,0,0,1,1])==5\n"
   ]
  },
  {
   "cell_type": "markdown",
   "metadata": {
    "colab_type": "text",
    "id": "zknFIccAcY40"
   },
   "source": [
    "# Question 3: KNN Classifier (4.0 marks)\n",
    "\n",
    "<b>Instructions</b>: Here, you implement your KNN classifier. It takes as input \n",
    "- training data features\n",
    "- training data labels\n",
    "- test data features\n",
    "- parameter K\n",
    "- distance function(s) based on which nearest neighbors will be identified\n",
    "\n",
    "It returns as output \n",
    "- the predicted labels for the test data\n",
    "\n",
    "**Voting stragegy** Your classifier will use majority voting (i.e., no distance weighting)\n",
    "\n",
    "**You should implement the classifier from scratch yourself**, i.e., <b> you must not</b> use an existing implementation in any Python library.\n",
    "\n",
    "**Ties**. Ties may occur when computing the K nearest neighbors, or when predicting the class based on the neighborhood. You may deal with ties whichever way you want (as long as you still use the requested distance functions)."
   ]
  },
  {
   "cell_type": "code",
   "execution_count": 6,
   "metadata": {
    "colab": {
     "base_uri": "https://localhost:8080/",
     "height": 71
    },
    "colab_type": "code",
    "executionInfo": {
     "elapsed": 919,
     "status": "ok",
     "timestamp": 1588139482398,
     "user": {
      "displayName": "Jey Han Lau",
      "photoUrl": "",
      "userId": "09065329932778503205"
     },
     "user_tz": -600
    },
    "id": "W6rdnrOXcY41",
    "outputId": "8d2391db-d5c0-4ea2-ea83-850e79bffd5c",
    "scrolled": false
   },
   "outputs": [],
   "source": [
    "\n",
    "import operator\n",
    "def KNN(train_Features, train_Labels, test_Features, k, dist_fun):\n",
    "    train_Features = np.array(train_Features)\n",
    "    test_Features = np.array(test_Features)\n",
    "    train_Labels = np.array(train_Labels)\n",
    "    predictions=[]\n",
    "    # every  test_instance\n",
    "    for j in range(len(test_Features)): \n",
    "        # dictionary\n",
    "        classCount={}\n",
    "        distances=[] \n",
    "        #main algorithm\n",
    "        for i in range(len(train_Features)):\n",
    "          distances.append(dist_fun(train_Features[i],test_Features[j]))\n",
    "          distances = np.array(distances)\n",
    "          sortedDistIndicies = distances.argsort()\n",
    "          distances=distances.tolist()\n",
    "        for i in range(k):\n",
    "          #voteIlabel should be an intger!!!\n",
    "          voteIlabel=train_Labels[sortedDistIndicies[i]].tolist()[0]\n",
    "          # when meet the same lable ++\n",
    "          classCount[voteIlabel]=classCount.get(voteIlabel,0)+1\n",
    "          # Using sorted function sort dic\n",
    "          sortedClassCount=sorted(classCount.items(),key=operator.itemgetter(1),reverse=True)\n",
    "          #return predictions\n",
    "        predictions.append(sortedClassCount[0][0])\n",
    "    predictions= np.array(predictions)\n",
    "    return predictions      "
   ]
  },
  {
   "cell_type": "markdown",
   "metadata": {
    "colab_type": "text",
    "id": "cWgLNH3LcY45"
   },
   "source": [
    "<b>For your testing:</b>"
   ]
  },
  {
   "cell_type": "code",
   "execution_count": 7,
   "metadata": {},
   "outputs": [
    {
     "data": {
      "text/plain": [
       "array([5, 5, 4, 1, 1, 2, 1, 6, 1, 7, 2])"
      ]
     },
     "execution_count": 7,
     "metadata": {},
     "output_type": "execute_result"
    }
   ],
   "source": [
    "KNN(train_features, train_labels, test_features, 1, eucledian_distance)"
   ]
  },
  {
   "cell_type": "code",
   "execution_count": 8,
   "metadata": {},
   "outputs": [
    {
     "data": {
      "text/plain": [
       "array([6, 5, 4, 1, 1, 2, 1, 6, 1, 7, 2])"
      ]
     },
     "execution_count": 8,
     "metadata": {},
     "output_type": "execute_result"
    }
   ],
   "source": [
    "KNN(train_features, train_labels, test_features, 1, cosine_distance)"
   ]
  },
  {
   "cell_type": "markdown",
   "metadata": {
    "colab": {},
    "colab_type": "code",
    "id": "th1NNkYZcY45"
   },
   "source": [
    "### Question 4: Evaluation (1.0 marks)\n",
    "**Instructions:** Write a function that computes the \"accuracy\" of your classifier. Given a set of predicted lables and a set of gold labels, it returns the fraction of correct labels over all predicted labels. \n",
    "\n",
    "**Example**: `The gold truth labels for four test instances are [1, 1, 1, 1]. A system predicted the labels [0, 1, 0, 0] for the same 4 instances. The accuracy of the system is 1/4 = 0.25\n",
    "`\n",
    "\n",
    "Your function will take as input \n",
    "- gold labels\n",
    "- predicted labels\n",
    "\n",
    "It returns as output\n",
    "- the accuracy value (float).\n"
   ]
  },
  {
   "cell_type": "code",
   "execution_count": 10,
   "metadata": {
    "colab_type": "text",
    "id": "F3V5AkC8cY48"
   },
   "outputs": [],
   "source": [
    "def accuracy(predict, gold):\n",
    " sum=0\n",
    " for i in range(len(predict)):\n",
    "  if predict[i]!=gold[i]:\n",
    "   sum+=1\n",
    "  else:\n",
    "   pass\n",
    " accuracy = 1 - sum/len(predict)\n",
    " return accuracy"
   ]
  },
  {
   "cell_type": "markdown",
   "metadata": {
    "colab_type": "text",
    "id": "xUwPHXMmcY49"
   },
   "source": [
    "<b>For your testing:</b>"
   ]
  },
  {
   "cell_type": "code",
   "execution_count": 11,
   "metadata": {
    "colab": {},
    "colab_type": "code",
    "id": "8hL-EnT-cY49"
   },
   "outputs": [],
   "source": [
    "assert accuracy([1, 1, 1, 1], [0, 1, 0, 1])==0.5"
   ]
  },
  {
   "cell_type": "markdown",
   "metadata": {},
   "source": [
    "### Question 5: Applying your KNN classifiers to the Zoo Dataset (3.0 marks)\n",
    "\n",
    "**Using the functions you have implemented above, please**\n",
    "\n",
    "<b> 1. </b>\n",
    "For each of the distance functions you implemented in Question 2, construct four KNN classifiers with K=1, K=5, K=25, K=55. You will create a total of 16 (4 distance functions x 4 K values) classifiers.\n",
    "\n",
    "<b> 2. </b>\n",
    "Compute the test accuracy for each model"
   ]
  },
  {
   "cell_type": "code",
   "execution_count": 12,
   "metadata": {},
   "outputs": [
    {
     "name": "stdout",
     "output_type": "stream",
     "text": [
      "Euclidean\n",
      "k=1  [5 5 4 1 1 2 1 6 1 7 2]\n",
      "k=5  [1 5 4 1 1 2 1 6 1 7 2]\n",
      "k=25 [1 1 4 1 1 2 1 1 1 4 2]\n",
      "k=55 [1 1 2 1 1 1 1 1 1 2 1]\n",
      "\n",
      "\n",
      "Jaccard\n",
      "k=1  [2 5 4 1 1 2 1 6 1 7 2]\n",
      "k=5  [2 5 4 1 1 2 1 6 1 6 2]\n",
      "k=25 [1 1 4 1 1 2 1 2 1 2 2]\n",
      "k=55 [1 1 1 1 1 1 1 1 1 2 2]\n",
      "\n",
      "\n",
      "Cosine\n",
      "k=1  [6 5 4 1 1 2 1 6 1 7 2]\n",
      "k=5  [6 5 4 1 1 2 1 6 1 7 2]\n",
      "k=25 [1 1 4 1 1 2 1 1 1 2 2]\n",
      "k=55 [1 1 1 1 1 1 1 1 1 2 1]\n",
      "\n",
      "\n",
      "Hamming\n",
      "k=1  [2 5 4 1 1 2 1 6 1 7 2]\n",
      "k=5  [2 5 4 1 1 2 1 6 1 6 2]\n",
      "k=25 [2 1 4 1 1 2 1 6 1 7 2]\n",
      "k=55 [1 1 1 1 1 2 1 2 1 2 2]\n",
      "\n",
      "\n",
      "Euclidean\n",
      "k=1  0.8181818181818181\n",
      "k=5  0.8181818181818181\n",
      "k=25  0.6363636363636364\n",
      "k=55  0.36363636363636365\n",
      "\n",
      "\n",
      "Jaccard\n",
      "k=1  0.8181818181818181\n",
      "k=5  0.7272727272727273\n",
      "k=25  0.6363636363636364\n",
      "k=55  0.4545454545454546\n",
      "\n",
      "\n",
      "Cosine\n",
      "k=1  0.8181818181818181\n",
      "k=5  0.8181818181818181\n",
      "k=25  0.6363636363636364\n",
      "k=55  0.36363636363636365\n",
      "\n",
      "\n",
      "Hamming\n",
      "k=1  0.8181818181818181\n",
      "k=5  0.7272727272727273\n",
      "k=25  0.8181818181818181\n",
      "k=55  0.5454545454545454\n"
     ]
    }
   ],
   "source": [
    "\n",
    "\n",
    "# 1. Predict test labels with each KNN classifier\n",
    "print(\"Euclidean\")\n",
    "print(\"k=1 \",KNN(train_features, train_labels, test_features, 1, eucledian_distance)) \n",
    "print(\"k=5 \",KNN(train_features, train_labels, test_features, 5, eucledian_distance))\n",
    "print(\"k=25\",KNN(train_features, train_labels, test_features, 25, eucledian_distance))\n",
    "print(\"k=55\",KNN(train_features, train_labels, test_features, 55, eucledian_distance))\n",
    "print(\"\\n\")\n",
    "print(\"Jaccard\")\n",
    "print(\"k=1 \",KNN(train_features, train_labels, test_features, 1, jaccard_distance)) \n",
    "print(\"k=5 \",KNN(train_features, train_labels, test_features, 5, jaccard_distance))\n",
    "print(\"k=25\",KNN(train_features, train_labels, test_features, 25, jaccard_distance))\n",
    "print(\"k=55\",KNN(train_features, train_labels, test_features, 55, jaccard_distance))\n",
    "print(\"\\n\")\n",
    "print(\"Cosine\")\n",
    "print(\"k=1 \",KNN(train_features, train_labels, test_features, 1, cosine_distance)) \n",
    "print(\"k=5 \",KNN(train_features, train_labels, test_features, 5, cosine_distance))\n",
    "print(\"k=25\",KNN(train_features, train_labels, test_features, 25, cosine_distance))\n",
    "print(\"k=55\",KNN(train_features, train_labels, test_features, 55, cosine_distance))\n",
    "print(\"\\n\")\n",
    "print(\"Hamming\")\n",
    "print(\"k=1 \",KNN(train_features, train_labels, test_features, 1, hamming_distance)) \n",
    "print(\"k=5 \",KNN(train_features, train_labels, test_features, 5, hamming_distance))\n",
    "print(\"k=25\",KNN(train_features, train_labels, test_features, 25, hamming_distance))\n",
    "print(\"k=55\",KNN(train_features, train_labels, test_features, 55, hamming_distance))\n",
    "print(\"\\n\")\n",
    "# 2. Compute the accuracy scores \n",
    "print(\"Euclidean\")\n",
    "print(\"k=1 \",accuracy(KNN(train_features, train_labels, test_features, 1, eucledian_distance), test_labels))\n",
    "print(\"k=5 \",accuracy(KNN(train_features, train_labels, test_features, 5, eucledian_distance), test_labels))\n",
    "print(\"k=25 \",accuracy(KNN(train_features, train_labels, test_features, 25, eucledian_distance), test_labels))\n",
    "print(\"k=55 \",accuracy(KNN(train_features, train_labels, test_features, 55, eucledian_distance), test_labels))\n",
    "print(\"\\n\")\n",
    "print(\"Jaccard\")\n",
    "print(\"k=1 \",accuracy(KNN(train_features, train_labels, test_features, 1, jaccard_distance), test_labels))\n",
    "print(\"k=5 \",accuracy(KNN(train_features, train_labels, test_features, 5, jaccard_distance), test_labels))\n",
    "print(\"k=25 \",accuracy(KNN(train_features, train_labels, test_features, 25, jaccard_distance), test_labels))\n",
    "print(\"k=55 \",accuracy(KNN(train_features, train_labels, test_features, 55, jaccard_distance), test_labels))\n",
    "print(\"\\n\")\n",
    "print(\"Cosine\")\n",
    "print(\"k=1 \",accuracy(KNN(train_features, train_labels, test_features, 1, cosine_distance), test_labels))\n",
    "print(\"k=5 \",accuracy(KNN(train_features, train_labels, test_features, 5, cosine_distance), test_labels))\n",
    "print(\"k=25 \",accuracy(KNN(train_features, train_labels, test_features, 25, cosine_distance), test_labels))\n",
    "print(\"k=55 \",accuracy(KNN(train_features, train_labels, test_features, 55, cosine_distance), test_labels))\n",
    "print(\"\\n\")\n",
    "print(\"Hamming\")\n",
    "print(\"k=1 \",accuracy(KNN(train_features, train_labels, test_features, 1, hamming_distance), test_labels))\n",
    "print(\"k=5 \",accuracy(KNN(train_features, train_labels, test_features, 5, hamming_distance), test_labels))\n",
    "print(\"k=25 \",accuracy(KNN(train_features, train_labels, test_features, 25, hamming_distance), test_labels))\n",
    "print(\"k=55 \",accuracy(KNN(train_features, train_labels, test_features, 55, hamming_distance), test_labels))\n"
   ]
  },
  {
   "cell_type": "markdown",
   "metadata": {},
   "source": [
    "### Question 6: Discussion (3.0 marks)\n",
    "1. (a) Which parameter K resulted in the best performance? (b) Why? (c) What could be done to improve those classifiers that are currently performing poorly?\n",
    "\n",
    "2. The results of KNN with Euclidean distance and KNN with Cosine distance are remarkably similar. Why is that so? Referring to the definitions of the distance functions.\n",
    "\n",
    "<b>Each question should be answered in no more than 2-3 sentences.</b>"
   ]
  },
  {
   "cell_type": "raw",
   "metadata": {},
   "source": [
    "1(a).K=1 \n",
    "\n",
    "1(b).The increase in the value of k means that the overall model becomes simpler. If k is too large, the nearest neighbor classifier may classify the test sample incorrectly, because the k nearest neighbors may contain data points that are far away and are not of the same kind.\n",
    "Therefore, it will reduce the accuracy\n",
    "\n",
    "1(c).\n",
    "First thing is choosing the most suitable k, can't be too big(not accurancy) or too small(too complicated).Dynamically determine the optimal K value through a cross-validation method.\n",
    "\n",
    "Then,in order to increase the speed of KNN search, a special data storage form can be used to reduce the number of times to calculate the distance, it's kd tree.\n",
    "\n",
    "Finally,find more accurate category probability estimates instead of simple voting methods, e.g weighting them according to their train distance to the test instance, use the proportion in the calculation, the closer to the train_instance in the k range, the greater the proportion for the prediction\n",
    "\n",
    "2.After functions Simplification \n",
    "\n",
    "Euclidean=sqrt(2(1-cosx)) Cosine=1-cosx cosx [-1,1]  So,Euclidean =k(Cosine),They are positively correlated. So they are remarkably similar"
   ]
  },
  {
   "cell_type": "code",
   "execution_count": null,
   "metadata": {
    "collapsed": true
   },
   "outputs": [],
   "source": []
  }
 ],
 "metadata": {
  "accelerator": "GPU",
  "anaconda-cloud": {},
  "colab": {
   "collapsed_sections": [],
   "name": "word-similarity.ipynb",
   "provenance": [],
   "toc_visible": true
  },
  "kernelspec": {
   "display_name": "Python 3",
   "language": "python",
   "name": "python3"
  },
  "language_info": {
   "codemirror_mode": {
    "name": "ipython",
    "version": 3
   },
   "file_extension": ".py",
   "mimetype": "text/x-python",
   "name": "python",
   "nbconvert_exporter": "python",
   "pygments_lexer": "ipython3",
   "version": "3.8.5"
  }
 },
 "nbformat": 4,
 "nbformat_minor": 1
}
